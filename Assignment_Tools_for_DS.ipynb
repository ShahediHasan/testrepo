{
  "metadata": {
    "language_info": {
      "codemirror_mode": {
        "name": "python",
        "version": 3
      },
      "file_extension": ".py",
      "mimetype": "text/x-python",
      "name": "python",
      "nbconvert_exporter": "python",
      "pygments_lexer": "ipython3",
      "version": "3.8"
    },
    "kernelspec": {
      "name": "python",
      "display_name": "Pyolite",
      "language": "python"
    },
    "toc-showcode": false
  },
  "nbformat_minor": 4,
  "nbformat": 4,
  "cells": [
    {
      "cell_type": "markdown",
      "source": "# My Jupyter Notebook on IBM Watson Studio",
      "metadata": {}
    },
    {
      "cell_type": "markdown",
      "source": "By **SHAHEDI HASAN** and this is week 4 assignment.",
      "metadata": {}
    },
    {
      "cell_type": "markdown",
      "source": "*I am interested in data science because I love it. This field is growing up.*",
      "metadata": {}
    },
    {
      "cell_type": "markdown",
      "source": "### Using for square in Jupyter notebook",
      "metadata": {}
    },
    {
      "cell_type": "code",
      "source": "i = 2\nnum = i**i\nprint(num)",
      "metadata": {
        "trusted": true
      },
      "execution_count": 3,
      "outputs": [
        {
          "name": "stdout",
          "text": "4\n",
          "output_type": "stream"
        }
      ]
    },
    {
      "cell_type": "markdown",
      "source": "1. Ordered list item\n2. ADD another item\n  * Unordered sub-list. \n \n [IBM](https://www.ibm.com)\n",
      "metadata": {}
    }
  ]
}